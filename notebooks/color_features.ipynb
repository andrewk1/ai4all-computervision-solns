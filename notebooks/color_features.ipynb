{
 "cells": [
  {
   "cell_type": "markdown",
   "metadata": {},
   "source": [
    "# Hands-On Research #2\n",
    "\n",
    "# Color Features"
   ]
  },
  {
   "cell_type": "code",
   "execution_count": null,
   "metadata": {},
   "outputs": [],
   "source": [
    "import numpy as np\n",
    "import matplotlib.pyplot as plt\n",
    "from utils.color_histograms_utils import *\n",
    "\n",
    "%matplotlib inline"
   ]
  },
  {
   "cell_type": "markdown",
   "metadata": {},
   "source": [
    "## Implementing Color Histograms\n",
    "\n",
    "Now it's time to put our knowledge of image representations to the test by implementing a **feature extraction** technique. Feature extraction lets us take a large image and express it in terms of a much smaller array that summarizes everything important about the image.\n",
    "\n",
    "In our case, we want to summarize the colors in an image using **Color Histograms**. For example, if we know the types of colors that appear in a **Satellite Image**, it may be easy to tell different areas apart (Forests will have more green, deserts will have more brown).\n",
    "\n",
    "In order to implement color histograms, you will need to use **slicing**, **concatenation**, and a new command called **np.histogram()**.\n",
    "\n",
    "**Hint**: The documentation for np.histogram can be viewed at [this link](https://docs.scipy.org/doc/numpy-1.12.0/reference/generated/numpy.histogram.html). You can call np.histogram(img_channel, bins, range=(0, 1))\n"
   ]
  },
  {
   "cell_type": "code",
   "execution_count": null,
   "metadata": {
    "scrolled": true
   },
   "outputs": [],
   "source": [
    "def image_to_histogram(x, bins, use_hsv):\n",
    "    \"\"\"\n",
    "    Inputs:\n",
    "    x - a single image.\n",
    "    bins - the number of bins your histograms should have for each channel\n",
    "    use_hsv - determines if images are stored in RGB or HSV format.\n",
    "    \n",
    "    Returns:\n",
    "    h - a single histogram. It's shape should be (3 x bins,)\n",
    "    \"\"\"\n",
    "    if use_hsv: # convert an RGB to an HSV function\n",
    "        x = rgb_to_hsv(x)\n",
    "    h = np.zeros((3*bins,))\n",
    "    ## YOUR CODE HERE\n",
    "    ## END YOUR CODE\n",
    "    assert h is not None, \"You must store a histogram in h!\"\n",
    "    return h\n",
    "\n",
    "test_image_to_histogram(image_to_histogram)"
   ]
  },
  {
   "cell_type": "markdown",
   "metadata": {},
   "source": [
    "## Extracting Color Histograms\n",
    "\n",
    "Once your \"image_to_histogram\" function is working, its time to take a look at how different images look after their histograms have been extracted. The following \"extract_some_histograms\" function will call your _feature extractor_ on each \"img\" in the loop and display the histogram for each image.\n",
    "\n",
    "**Try** experimenting with the **bins** and **use_hsv** arguments to see how the histograms look with different settings."
   ]
  },
  {
   "cell_type": "code",
   "execution_count": null,
   "metadata": {},
   "outputs": [],
   "source": [
    "def extract_some_histograms(bins, use_hsv):\n",
    "    C = create_colors(bins, use_hsv)\n",
    "    H = [] # list used to gather histograms for every image.\n",
    "    for img in data_sample:\n",
    "        h = None\n",
    "        ## YOUR CODE HERE\n",
    "        ## END YOUR CODE\n",
    "        show_img_and_hist(img, h, C)\n",
    "\n",
    "    H = np.row_stack(H) # all the histograms are \"stacked\" together to form a matrix.\n",
    "    return H\n",
    "\n",
    "H = extract_some_histograms(bins=100, use_hsv=False)"
   ]
  },
  {
   "cell_type": "markdown",
   "metadata": {},
   "source": [
    "When you feel like you have a pretty good idea of what color histograms can tell us about each image, run the next block. It will extract histograms for ** all ** the **Trucks** and **Planes** images in our dataset and store it in the variable \"H\".\n",
    "\n",
    "**Warning**: From here on out, if you want to experiment with different values for **bins** and **use_hsv**, you'll need to go back, change this code, and rerun it to get a new \"H\"."
   ]
  },
  {
   "cell_type": "code",
   "execution_count": null,
   "metadata": {},
   "outputs": [],
   "source": [
    "BINS = 10\n",
    "USE_HSV = True\n",
    "H = extract_all_histograms(bins=BINS, use_hsv=USE_HSV)\n",
    "labels = load_labels()"
   ]
  },
  {
   "cell_type": "markdown",
   "metadata": {},
   "source": [
    "## A Sneak Peak at Machine Learning\n",
    "\n",
    "Now that you've extracted features for all the images in the dataset, its time to train a machine learning model to tell the difference between images of **Trucks** and images of **Planes**. Your job is to fill in \"machine_learning_experiment()\" by creating a **Training** and **Testing** set out of \"H\" and storing them in them in the variables \"H_train\" and \"H_test\". You will also need to split up the labels in the same way.\n",
    "\n",
    "** H_train ** is a set of histograms (corresponding to images) that the model looks at in order to learn.\n",
    "\n",
    "** y_train** is a set of labels for each histogram in the training set. The model needs to see the labels to know when it gets answers right or wrong during learning.\n",
    "\n",
    "** H_test ** is a set of histograms that the model is tested on after learning: It guesses which histograms in this set belong to Trucks and which belong to Planes, and we judge it based on its accuracy.\n",
    "\n",
    "** y_test** is a set of labels for each histogram in the testing set. We need these to tell how good the model was at making guesses on data it hasn't seen before.\n",
    "\n",
    "**Hint: ** Remember that \"H\" is just a matrix. All the rules for **slicing** and **concatenating** that you learned for images apply here too.\n",
    "\n",
    "**Hint: ** You'll need to split up the labels in the same way you split the histograms, or else the right labels could get mixed up!\n",
    "\n",
    "**Hint: ** The shape of H will be (num_train + num_test, num_features), and labels[i] will correspond to H[i, :]. You can find out the total size of the dataset by calling H.shape[0]!"
   ]
  },
  {
   "cell_type": "code",
   "execution_count": null,
   "metadata": {},
   "outputs": [],
   "source": [
    "def machine_learning_experiment(H, labels, num_train):\n",
    "    H, labels = shuffle_data(H, labels)\n",
    "\n",
    "    H_train = None\n",
    "    H_test = None\n",
    "    label_train = None\n",
    "    label_test = None\n",
    "    # YOUR CODE HERE\n",
    "    # END YOUR CODE\n",
    "    train_model_and_get_results(H_train, H_test, label_train, label_test)\n",
    "\n",
    "machine_learning_experiment(H, labels, 5000)"
   ]
  },
  {
   "cell_type": "markdown",
   "metadata": {},
   "source": [
    "What was your model's training and testing accuracy? Is one value larger than the other? If so, why?\n",
    "\n",
    "**Try** playing with different sizes of the training and testing set, and see how the model's classification accuracy is affected. Does it make sense to have a bigger training set? Should the training and testing set be of equal size?\n",
    "\n",
    "**Also Try** going back and extracting different \"H\" matrices. Does switching to HSV or adding more bins to your histograms change the result?\n"
   ]
  },
  {
   "cell_type": "markdown",
   "metadata": {},
   "source": [
    "## Better Understanding Our Features\n",
    "\n",
    "With good settings for **bins**, **use_hsv**, and a good split between training and testing data, your model should be able to get above **75%** test accuracy when trying to tell the difference between Trucks and Planes.\n",
    "\n",
    "For comparison, if we randomly flipped a coin to make a classification decision, we would only get about **50%** accuracy. So our color histogram features really are **predictive**, or helpful for learning!\n",
    "\n",
    "We can try to understand better why our features work by plotting the **Average Histogram** for the Planes class and the average histogram for the Trucks class and showing them side by side. The **Average Histogram** tells us, for every image belonging to a class (e.g., Trucks), how many pixels normally fall into each color bin. We call the average a \"Summary Statistic\", because it summarizes our data.\n",
    "\n",
    "Fix the \"compute_summary_statistics\" function below by using the command ** np.mean() ** to find average histograms for class \"0\" and class \"1\", and store them to the variables \"average_0\" and \"average_1\".\n",
    "\n",
    "** Hint: ** Just like np.concatenate(), np.mean() accepts an axis argument. What do you think it that does here?"
   ]
  },
  {
   "cell_type": "code",
   "execution_count": null,
   "metadata": {},
   "outputs": [],
   "source": [
    "def compute_summary_statistics(H, labels, use_satellite= False):\n",
    "    H_0 = H[labels == 0]\n",
    "    H_1 = H[labels == 1]\n",
    "    \n",
    "    average_0 = None\n",
    "    average_1 = None\n",
    "    \n",
    "    ## YOUR CODE HERE\n",
    "    ## END YOUR CODE\n",
    "    \n",
    "    # Display the different mean vectors\n",
    "    compare_hists(average_0, average_1, BINS, USE_HSV, use_satellite)\n",
    "    \n",
    "compute_summary_statistics(H, labels)"
   ]
  },
  {
   "cell_type": "markdown",
   "metadata": {},
   "source": [
    "What can the average histograms tell us about the Trucks and Planes classes? Do you see any interesting differences between the two averages? How might this contribute to classification accuracy?"
   ]
  },
  {
   "cell_type": "markdown",
   "metadata": {},
   "source": [
    "## Applying Your Machine Learning Pipeline to Satellite Imagery\n",
    "\n",
    "You now have a complete machine learning **Pipeline**, this is a term programmers use to describe a step-by-step system that takes in data at one end and gives you a result you care about at the other end. Our pipeline consists of (1) Extracting features for a set of images (2) Separating features into training and testing sets (3) training a model on our data, and (4) computing the model accuracy.\n",
    "\n",
    "Now that we know everything works, its time we apply our pipeline to the problem we really care about: **Predicting Poverty**\n",
    "\n",
    "Run the pipeline in the code below on the satellite dataset, and see what type of accuracy you get:"
   ]
  },
  {
   "cell_type": "code",
   "execution_count": null,
   "metadata": {},
   "outputs": [],
   "source": [
    "BINS = 10\n",
    "USE_HSV = True\n",
    "H = extract_all_histograms(bins=BINS, use_hsv=USE_HSV, use_satellite=True)\n",
    "labels = load_labels(use_satellite=True)\n",
    "\n",
    "machine_learning_experiment(H, labels, 200)"
   ]
  },
  {
   "cell_type": "markdown",
   "metadata": {},
   "source": [
    "Yikes! It looks like our color histogram features are only working at the level of chance on the satellite dataset. Finally, lets compute summary statistics for the satellite images, and try to think about how these features worked so well for telling the difference between trucks and planes, but broke down on the satellite imagery:"
   ]
  },
  {
   "cell_type": "code",
   "execution_count": null,
   "metadata": {
    "scrolled": true
   },
   "outputs": [],
   "source": [
    "compute_summary_statistics(H, labels, use_satellite=True)"
   ]
  },
  {
   "cell_type": "code",
   "execution_count": null,
   "metadata": {},
   "outputs": [],
   "source": []
  }
 ],
 "metadata": {
  "kernelspec": {
   "display_name": "Python 3",
   "language": "python",
   "name": "python3"
  },
  "language_info": {
   "codemirror_mode": {
    "name": "ipython",
    "version": 3
   },
   "file_extension": ".py",
   "mimetype": "text/x-python",
   "name": "python",
   "nbconvert_exporter": "python",
   "pygments_lexer": "ipython3",
   "version": "3.6.5"
  }
 },
 "nbformat": 4,
 "nbformat_minor": 2
}
