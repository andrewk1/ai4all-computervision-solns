{
 "cells": [
  {
   "cell_type": "markdown",
   "metadata": {},
   "source": [
    "# Hands-On Research #2\n",
    "\n",
    "# Working with Images"
   ]
  },
  {
   "cell_type": "code",
   "execution_count": null,
   "metadata": {},
   "outputs": [],
   "source": [
    "import numpy as np\n",
    "import matplotlib.pyplot as plt\n",
    "\n",
    "from utils.image_ops_utils import *\n",
    "\n",
    "%matplotlib inline"
   ]
  },
  {
   "cell_type": "markdown",
   "metadata": {},
   "source": [
    "## Section I: Images and Matrices\n",
    "\n",
    "First we'll learn about how computers store **images** in **matrices** (or **arrays**). We'll look at images of different shapes and try to understand the difference between color and grayscale images."
   ]
  },
  {
   "cell_type": "markdown",
   "metadata": {},
   "source": [
    "### Matrix Shape\n",
    "\n",
    "All images, matrices, and arrays have a **shape**. If our image is in black and white, its shape can be described with two numbers: The number of **rows**, and the number of **columns** of **pixel-values**. Every **pixel-value** is a number between 0. and 1. that tells us how light or dark that part of the image is.\n",
    "\n",
    "For example, if an image has _r_ rows, and _c_ columns, the image's shape is \"_r_ by _c_\", or (r, c).\n",
    "\n",
    "Run the next cell to see a set of matrix images, and guess what their shape is:"
   ]
  },
  {
   "cell_type": "code",
   "execution_count": null,
   "metadata": {},
   "outputs": [],
   "source": [
    "display_all_rectangles()"
   ]
  },
  {
   "cell_type": "markdown",
   "metadata": {},
   "source": [
    "Check if your guesses are right by filling out the \"check_shape\" function.\n",
    "\n",
    "**Hint:** You will need to use the numpy command **np.shape()**."
   ]
  },
  {
   "cell_type": "code",
   "execution_count": null,
   "metadata": {},
   "outputs": [],
   "source": [
    "def check_shape():\n",
    "    \"\"\"\n",
    "    Get the shapes of x0, x1, x2, x3, and store them in the variables\n",
    "    shape_of_x0, shape_of_x1, shape_of_x2, shape_of_x3.\n",
    "    \"\"\"\n",
    "    x0 = rect_0\n",
    "    x1 = rect_1\n",
    "    x2 = rect_2\n",
    "    x3 = rect_3\n",
    "    \n",
    "    ## YOUR CODE HERE\n",
    "    ## END YOUR CODE\n",
    "    \n",
    "    display_all_rectangles(shapes = [shape_of_x0, shape_of_x1,\n",
    "                                     shape_of_x2, shape_of_x3])\n",
    "    \n",
    "check_shape()"
   ]
  },
  {
   "cell_type": "markdown",
   "metadata": {},
   "source": [
    "### The Shape of Color Images\n",
    "\n",
    "So far we've just looked at the shape of matrices for black and white images. Color images also have a shape, but they require a new dimension to store information about the colors. Every color image has three **Color Channels**.\n",
    "\n",
    "Can you guess the shape of a color image with 32 rows and 32 columns? Run the function in the next cell to find out:"
   ]
  },
  {
   "cell_type": "code",
   "execution_count": null,
   "metadata": {},
   "outputs": [],
   "source": [
    "display_color_image_and_shape()"
   ]
  },
  {
   "cell_type": "markdown",
   "metadata": {},
   "source": [
    "You can think of the color image as being each channel \"stacked\" one on top of another.\n",
    "\n",
    "Notice that the the red channel has the most intense color around the body of the truck, but the green and blue channels are very light there."
   ]
  },
  {
   "cell_type": "markdown",
   "metadata": {},
   "source": [
    "## Section II: Manipulating Images\n",
    "\n",
    "We now have a pretty good idea of how computers use **matrices** to represent **images**. Next, we'll learn ways to transform images and making new ones."
   ]
  },
  {
   "cell_type": "markdown",
   "metadata": {},
   "source": [
    "### Concatenation\n",
    "\n",
    "The process of sticking arrays together end-to-end is called **concatenation**, and it can be done with the command **np.concatenate()**. Many arrays can be concatenated at once by placing them in a _list_. Try fixing the \"how_to_concatenate\" function below to see how it works."
   ]
  },
  {
   "cell_type": "code",
   "execution_count": null,
   "metadata": {},
   "outputs": [],
   "source": [
    "def how_to_concatenate():\n",
    "    # These are the arrays we want to concatenate together\n",
    "    x0 = array_0\n",
    "    x1 = array_1\n",
    "    x2 = array_2\n",
    "\n",
    "    x_concatenated = None\n",
    "    \n",
    "    ## YOUR CODE HERE\n",
    "    ## END YOUR CODE\n",
    "    \n",
    "    display_arrays([x0,x1,x2, x_concatenated])\n",
    "    \n",
    "how_to_concatenate()"
   ]
  },
  {
   "cell_type": "markdown",
   "metadata": {},
   "source": [
    "We can also concatenate rectangular matrices, or images, but the rules become more complicated. We need to decide which ** axis ** they should be concatenated along. In other words, do we put matrices together side by side, or one on top of another?\n",
    "\n",
    "Try experimenting with the axis argument to **np.concatenate()** in the function below. Can you describe the difference between having **axis=0** and **axis=1**?"
   ]
  },
  {
   "cell_type": "code",
   "execution_count": null,
   "metadata": {},
   "outputs": [],
   "source": [
    "def concatenate_images():\n",
    "    data = load_planes_data()\n",
    "    x0 = data[10]\n",
    "    x1 = data[20]\n",
    "    \n",
    "    x_concatenated = None\n",
    "    \n",
    "    ## YOUR CODE HERE\n",
    "    ## END YOUR CODE\n",
    "    \n",
    "    display_images([x0, x1, x_concatenated])\n",
    "    \n",
    "concatenate_images()"
   ]
  },
  {
   "cell_type": "markdown",
   "metadata": {},
   "source": [
    "### Slicing Rows and Columns\n",
    "\n",
    "Images can be cut into pieces along their different axes by providing a **range** of numbers as an \"index\". To get all the values along an axis, you can use a semicolon. For example, if X is an image you can get the 0th row of pixels and assign it to the variable _row_ with: **row = X[0,:]**.\n",
    "\n",
    "Try fixing the function \"how_to_slice\" to pull out the \"interesting column\" in the middle of the image, and displaying it by itself. Make sure to run \"how_to_slice\" before editing it, to see how the original image looks.\n",
    "\n",
    "**Hint:** Don't forget to store the sliced column in the variable **col**.\n"
   ]
  },
  {
   "cell_type": "code",
   "execution_count": null,
   "metadata": {},
   "outputs": [],
   "source": [
    "def how_to_slice():\n",
    "    x = rect_w_col\n",
    "    col = x.copy()\n",
    "    \n",
    "    ## YOUR CODE HERE\n",
    "    ## END YOUR CODE\n",
    "    \n",
    "    display_array(col, column=True)\n",
    "    \n",
    "how_to_slice()"
   ]
  },
  {
   "cell_type": "markdown",
   "metadata": {},
   "source": [
    "### Slicing Color Channels\n",
    "\n",
    "You can also slice along the third axis (where the color channels are stored) and change them to make the images different colors.\n",
    "\n",
    "Try slicing the different copies of the images to make them different colors.\n",
    "\n",
    "** Hint 1: ** You can set all the pixels in a slice equal to 0. by using the assignment operator (=). For example, X[0,:] = 0. will set the 0th row of X to be all 0's.\n",
    "\n",
    "**Hint 2: **\n",
    "\n",
    "_xr_ should be _red_ (this one is given to you!)\n",
    "\n",
    "_xg_ should be _green_\n",
    "\n",
    "_xb_ should be _blue_\n",
    "\n",
    "_xp_ should be _purple_ (only red and blue colors)\n",
    "\n",
    "_xy_ should be _yellow_ (only green and red colors)\n",
    "\n",
    "_xt_ should be _turqoise_ (only blue and green colors)\n",
    "\n",
    "**Note : **\n",
    "It's fine if the plane in the middle is a darker shade than the rest."
   ]
  },
  {
   "cell_type": "code",
   "execution_count": null,
   "metadata": {},
   "outputs": [],
   "source": [
    "def how_to_slice_color_channels():\n",
    "    data = load_planes_data()\n",
    "\n",
    "    xr = data[0].copy() # red\n",
    "    xg = data[0].copy() # green\n",
    "    xb = data[0].copy() # blue\n",
    "\n",
    "    xp = data[0].copy() # purple\n",
    "    xy = data[0].copy() # yellow\n",
    "    xt = data[0].copy() # turqoise\n",
    "\n",
    "    xr[:, :, 1] = 0\n",
    "    xr[:, :, 2] = 0\n",
    "    \n",
    "    # YOUR CODE HERE    \n",
    "    # END YOUR CODE\n",
    "    \n",
    "    display_images_in_grid(xr, xg, xb, xp, xy, xt)\n",
    "    \n",
    "how_to_slice_color_channels()"
   ]
  },
  {
   "cell_type": "markdown",
   "metadata": {},
   "source": [
    "## Section III: Putting it all Together\n",
    "\n",
    "Finally, lets use our understanding of **slicing** and **concatenation** to merge two different images together. We've provided grayscale images (so rows and columns, but no third axis) of two different faces. Run the block below to see them separately:\n"
   ]
  },
  {
   "cell_type": "code",
   "execution_count": null,
   "metadata": {},
   "outputs": [],
   "source": [
    "def show_faces():\n",
    "    X = load_faces_data()\n",
    "    X = 1. - X\n",
    "    face0 = X[0]\n",
    "    face1 = X[1]\n",
    "    \n",
    "    f, axs = plt.subplots(1,2)\n",
    "    axs[0].imshow(face0, cmap=\"Greys\")\n",
    "    axs[1].imshow(face1, cmap=\"Greys\")\n",
    "    \n",
    "    plt.show()\n",
    "\n",
    "show_faces()"
   ]
  },
  {
   "cell_type": "markdown",
   "metadata": {},
   "source": [
    "Try slicing one half of **face_0** and one half of **face_1** and merge them together using concatenate. You can experiment with merging them horizontally and vertically."
   ]
  },
  {
   "cell_type": "code",
   "execution_count": null,
   "metadata": {},
   "outputs": [],
   "source": [
    "def merge_horizontally(face0, face1):\n",
    "    two_face = face1.copy()\n",
    "    \n",
    "    #YOUR CODE HERE\n",
    "    # Hint: we've already copied face1 into `two_face`, so all you need to do is modify a slice of `two_face`\n",
    "    # END YOUR CODE\n",
    "    \n",
    "    plt.imshow(two_face, cmap=\"Greys\")\n",
    "    plt.show()"
   ]
  },
  {
   "cell_type": "code",
   "execution_count": null,
   "metadata": {},
   "outputs": [],
   "source": [
    "def merge_vertically(face0, face1):\n",
    "    two_face = face1.copy()\n",
    "    \n",
    "    #YOUR CODE HERE\n",
    "    # Hint: we've already copied face1 into `two_face`, so all you need to do is modify a slice of `two_face`\n",
    "    # END YOUR CODE\n",
    "    \n",
    "    plt.imshow(two_face, cmap=\"Greys\")\n",
    "    plt.show()"
   ]
  },
  {
   "cell_type": "code",
   "execution_count": null,
   "metadata": {},
   "outputs": [],
   "source": [
    "def how_to_slice_and_concatenate():\n",
    "    X = load_faces_data()\n",
    "    X = 1. - X\n",
    "    face0 = X[0]\n",
    "    face1 = X[1]\n",
    "    \n",
    "    plt.imshow(face0, cmap=\"Greys\")\n",
    "    plt.show()\n",
    "    plt.imshow(face1, cmap=\"Greys\")\n",
    "    plt.show()\n",
    "    \n",
    "    merge_horizontally(face0, face1)\n",
    "    \n",
    "    merge_vertically(face0, face1)\n",
    "    \n",
    "how_to_slice_and_concatenate()"
   ]
  },
  {
   "cell_type": "code",
   "execution_count": null,
   "metadata": {},
   "outputs": [],
   "source": []
  }
 ],
 "metadata": {
  "kernelspec": {
   "display_name": "Python 3",
   "language": "python",
   "name": "python3"
  },
  "language_info": {
   "codemirror_mode": {
    "name": "ipython",
    "version": 3
   },
   "file_extension": ".py",
   "mimetype": "text/x-python",
   "name": "python",
   "nbconvert_exporter": "python",
   "pygments_lexer": "ipython3",
   "version": "3.6.5"
  }
 },
 "nbformat": 4,
 "nbformat_minor": 2
}
