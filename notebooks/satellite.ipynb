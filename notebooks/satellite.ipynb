{
 "cells": [
  {
   "cell_type": "markdown",
   "metadata": {},
   "source": [
    "# Hands-On Research #1\n",
    "\n",
    "## Exploring Satellite Data"
   ]
  },
  {
   "cell_type": "code",
   "execution_count": 1,
   "metadata": {},
   "outputs": [
    {
     "name": "stderr",
     "output_type": "stream",
     "text": [
      "/Users/colinwei/virtualenvs/python3/ai4all2018/lib/python3.6/site-packages/h5py/__init__.py:36: FutureWarning: Conversion of the second argument of issubdtype from `float` to `np.floating` is deprecated. In future, it will be treated as `np.float64 == np.dtype(float).type`.\n",
      "  from ._conv import register_converters as _register_converters\n"
     ]
    }
   ],
   "source": [
    "%load_ext autoreload\n",
    "%autoreload 2\n",
    "\n",
    "from utils.satellite_util import *\n",
    "import matplotlib.pyplot as plt\n",
    "\n",
    "%matplotlib inline"
   ]
  },
  {
   "cell_type": "markdown",
   "metadata": {},
   "source": [
    "### Displaying Single Satellite Images\n",
    "\n",
    "We've provided a function for visualizing satellite data. Run the next block to \"define\" the function so that python knows that it exists. Next, \"call\" the function with different arguments and see what images you get.\n",
    "\n",
    "You can go to [Google Maps](https://www.google.com/maps/) and click on different points around the world to reveal its coordinates in lantitute and longitude. Try finding some interesting places, and downloading images with \"show_satellite_image\" in Python!"
   ]
  },
  {
   "cell_type": "code",
   "execution_count": null,
   "metadata": {},
   "outputs": [],
   "source": [
    "\"\"\"\n",
    "This function (show_satellite_image) \"wraps\" around a function for downloading images\n",
    "(download_img) but also uses the library \"plt\" to display the image you downloaded.\n",
    "\"\"\"\n",
    "def show_satellite_image(latitude, longitude, zoom=16, width=224, height=224):\n",
    "    X = download_img(latitude,longitude,zoom,width,height, save=False)\n",
    "    plt.imshow(X)\n",
    "    plt.show()\n",
    "    \n",
    "\"\"\"\n",
    "Call show_satellite_image here. Try experimenting with different values for the arguments!\n",
    "\"\"\"\n",
    "show_satellite_image(2.211632, 40.873421, zoom=16, width=224, height=224)"
   ]
  },
  {
   "cell_type": "markdown",
   "metadata": {},
   "source": [
    "For this project, we'll be working to map out which locations have high poverty around the country of **Uganda**. You can print out a list of coordinates for sites around Uganda by running the cell below. **Try** entering some of these into your show_satellite_image function to see how they look:"
   ]
  },
  {
   "cell_type": "code",
   "execution_count": null,
   "metadata": {},
   "outputs": [],
   "source": [
    "print_coordinates()"
   ]
  },
  {
   "cell_type": "markdown",
   "metadata": {},
   "source": [
    "### Download Images Automatically\n",
    "\n",
    "Entering in latitudes and longitudes by hand is tedious. Instead, we want to write a script to automatically go over the entries and download all the images we need."
   ]
  },
  {
   "cell_type": "code",
   "execution_count": null,
   "metadata": {},
   "outputs": [],
   "source": [
    "\"\"\"\n",
    "Can you write a loop that goes over all the locations and downloads images automatically?\n",
    "\n",
    "HINT: You can use \"print(coordinates)\" to see what the coordinate list looks like. \n",
    "HINT: Make sure the \"save\" keyword for download_img is set to true!\n",
    "HINT: You can check how download_img is called in the previous cell!\n",
    "\"\"\"\n",
    "def download_all_images(zoom=16, width=224, height=224):\n",
    "    coordinates = get_coordinate_list(200)\n",
    "    ## YOUR CODE HERE\n",
    "    ## END YOUR CODE\n",
    "    \n",
    "\"\"\"\n",
    "Call download_all_images() here\n",
    "\"\"\"\n",
    "download_all_images()"
   ]
  },
  {
   "cell_type": "markdown",
   "metadata": {},
   "source": [
    "### Predicting Poverty by Eye\n",
    "\n",
    "These images are the only information our AI program will receive before it can make judgments about where poverty occurs. Can you and I make good judgments with a similar amount of information? Run the cell below to start a simple quiz to find out!"
   ]
  },
  {
   "cell_type": "code",
   "execution_count": null,
   "metadata": {
    "scrolled": true
   },
   "outputs": [],
   "source": [
    "\"\"\"\n",
    "Call this script to begin a quiz on the satellite data you downloaded\n",
    "\"\"\"\n",
    "x, t = start_quiz()"
   ]
  },
  {
   "cell_type": "markdown",
   "metadata": {},
   "source": [
    "### Grade Yourself\n",
    "\n",
    "Once you've finished the quiz, run the next cell to find out how you did. Images shown in green are ones you got right, images are read are ones you got wrong."
   ]
  },
  {
   "cell_type": "code",
   "execution_count": null,
   "metadata": {},
   "outputs": [],
   "source": [
    "\"\"\"\n",
    "Call this script to reveal the answers\n",
    "\"\"\"\n",
    "compute_results(x, t)"
   ]
  },
  {
   "cell_type": "code",
   "execution_count": null,
   "metadata": {},
   "outputs": [],
   "source": []
  },
  {
   "cell_type": "code",
   "execution_count": null,
   "metadata": {},
   "outputs": [],
   "source": []
  }
 ],
 "metadata": {
  "kernelspec": {
   "display_name": "Python 3",
   "language": "python",
   "name": "python3"
  },
  "language_info": {
   "codemirror_mode": {
    "name": "ipython",
    "version": 3
   },
   "file_extension": ".py",
   "mimetype": "text/x-python",
   "name": "python",
   "nbconvert_exporter": "python",
   "pygments_lexer": "ipython3",
   "version": "3.6.4"
  }
 },
 "nbformat": 4,
 "nbformat_minor": 2
}
