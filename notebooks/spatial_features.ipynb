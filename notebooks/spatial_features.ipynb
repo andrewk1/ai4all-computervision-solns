{
 "cells": [
  {
   "cell_type": "markdown",
   "metadata": {},
   "source": [
    "# Hands-On Research #3\n",
    "## Image Feature Representations, Filters and Convolutions"
   ]
  },
  {
   "cell_type": "markdown",
   "metadata": {},
   "source": [
    "In this session we will focus on featurizing images with more sophisticated techniques than colour histograms."
   ]
  },
  {
   "cell_type": "code",
   "execution_count": null,
   "metadata": {},
   "outputs": [],
   "source": [
    "import numpy as np\n",
    "import matplotlib.pyplot as plt\n",
    "from utils.load_images import load_images, rgb_to_greyscale, compare_images\n",
    "%matplotlib inline\n",
    "plt.gray()"
   ]
  },
  {
   "cell_type": "markdown",
   "metadata": {},
   "source": [
    "### Load Images\n",
    "\n",
    "We will be working with the following 4 greyscale images, visualized below."
   ]
  },
  {
   "cell_type": "code",
   "execution_count": null,
   "metadata": {},
   "outputs": [],
   "source": [
    "fig = plt.figure(figsize=(40,80))\n",
    "images = rgb_to_greyscale(load_images())\n",
    "print(np.shape(images)) # 4 images of dimension: (768, 1024) = (Height, Width)\n",
    "for i in range(4):\n",
    "    plt.subplot(1, 4, i + 1)\n",
    "    plt.imshow(images[i])\n",
    "    plt.title(\"Image {}\".format(i+1))\n",
    "    plt.axis('off')\n",
    "plt.gcf().tight_layout()"
   ]
  },
  {
   "cell_type": "markdown",
   "metadata": {},
   "source": [
    "### Padding Images\n",
    "\n",
    "Next we will pad the images with zeros so that when we do the filtering, the output will be the same size of the image. The pad around each image will be two rows and two columns of zeros on either side.\n",
    "Notice a small dark border around the images below (that does not appear above), representing the zero padding."
   ]
  },
  {
   "cell_type": "code",
   "execution_count": null,
   "metadata": {},
   "outputs": [],
   "source": [
    "# Pad Images:\n",
    "padded_images = [ np.pad(img, ((2,2),(2,2)), 'constant') for img in images]\n",
    "print(\"Shape of images should be (num_images, padded_width, padded_height)=(4,772,1028)\")\n",
    "print(np.shape(padded_images))\n",
    "fig = plt.figure(figsize=(40,80))\n",
    "for i in range(4):\n",
    "    plt.subplot(1, 4, i + 1)\n",
    "    plt.imshow(padded_images[i])\n",
    "    plt.title(\"Image {}\".format(i+1))\n",
    "    plt.axis('off')\n",
    "plt.gcf().tight_layout()"
   ]
  },
  {
   "cell_type": "markdown",
   "metadata": {},
   "source": [
    "### Creating Filters\n",
    "\n",
    "Here we can create a few 5x5 filters to test on the images. We've provided a couple, and feel free to experiment with them!"
   ]
  },
  {
   "cell_type": "code",
   "execution_count": null,
   "metadata": {},
   "outputs": [],
   "source": [
    "filter1 = np.asarray([[1.,1.,1.,1.,1.], \n",
    "                      [1.,1.,1.,1.,1.],  \n",
    "                      [1.,1.,1.,1.,1.],\n",
    "                      [1.,1.,1.,1.,1.],\n",
    "                      [1.,1.,1.,1.,1.]])\n",
    "filter1 = filter1 * (1./25.)\n",
    "\n",
    "filter2 = np.asarray([[0.,0.,0.,0.,0.], \n",
    "                      [0.,0.,0.,0.,0.],  \n",
    "                      [0.,0.,1.,0.,0.],\n",
    "                      [0.,0.,0.,0.,0.],\n",
    "                      [0.,0.,0.,0.,0.]])\n",
    "\n",
    "# Customize your own:\n",
    "filter3 = "
   ]
  },
  {
   "cell_type": "markdown",
   "metadata": {},
   "source": [
    "### Apply the convlution to the image\n",
    "\n",
    "Fill in the missing code to apply the filter as a convolution."
   ]
  },
  {
   "cell_type": "code",
   "execution_count": null,
   "metadata": {},
   "outputs": [],
   "source": [
    "def apply_filter(img, fltr):\n",
    "    \"\"\"\n",
    "    Arguments:\n",
    "        1) img - this is the padded image with shape (772, 1028)\n",
    "        2) fltr - this is a filter of your choosing with shape (5, 5)\n",
    "    Returns:\n",
    "        'output': An image with the filter applied to it. Should have shape of original image: (768, 1024)\n",
    "    Hints:\n",
    "        - Use 2 nested for loops to iterate over the height and width of the output image. At each internal\n",
    "        iteration populate the varible 'output' with the sum of the product of the filter and \n",
    "        img at that part of the image.\n",
    "        - Useful functions include range() and np.sum().\n",
    "        - Remember to get a segment of a matrix you can input a range like this m[1:5].\n",
    "        This returns elements in for indices 1, 2, 3, and 4.\n",
    "        - To get the part of the image that should go in the (i, j)-th entry of the output, you can call\n",
    "        img[i:i + fH, j:j + fW].\n",
    "    \"\"\"\n",
    "    H,W = np.shape(img) # (772, 1028)\n",
    "    fH, fW = np.shape(fltr) # (5, 5)\n",
    "    output = np.zeros((768, 1024))\n",
    "\n",
    "    # START CODE\n",
    "    # END CODE\n",
    "    \n",
    "    return output"
   ]
  },
  {
   "cell_type": "markdown",
   "metadata": {},
   "source": [
    "### Filter1\n",
    "\n",
    "Apply filter1 to all 4 images."
   ]
  },
  {
   "cell_type": "code",
   "execution_count": null,
   "metadata": {},
   "outputs": [],
   "source": [
    "filter1_images = [apply_filter(img, filter1) for img in padded_images]"
   ]
  },
  {
   "cell_type": "markdown",
   "metadata": {},
   "source": [
    "Now pass in either 1,2,3, or 4 as the second argument to 'compare_images' to run the corresponding image, comparing \n",
    "the original to the one processed by the filter."
   ]
  },
  {
   "cell_type": "code",
   "execution_count": null,
   "metadata": {},
   "outputs": [],
   "source": [
    "img_index = 1 # use one of image index numbers 1, 2, 3 or 4.\n",
    "compare_images(images + filter1_images, img_index, [\"Original Image\", \"Filter Applied\", \"Difference Image\"]) "
   ]
  },
  {
   "cell_type": "markdown",
   "metadata": {},
   "source": [
    "### Filter2\n",
    "\n",
    "Apply filter2 to all 4 images."
   ]
  },
  {
   "cell_type": "code",
   "execution_count": null,
   "metadata": {},
   "outputs": [],
   "source": [
    "filter2_images = [apply_filter(img, filter2) for img in padded_images]"
   ]
  },
  {
   "cell_type": "code",
   "execution_count": null,
   "metadata": {},
   "outputs": [],
   "source": [
    "img_index = 2 # use one of image index numbers 1, 2, 3 or 4.\n",
    "compare_images(images + filter2_images, img_index, [\"Original Image\", \"Filter Applied\", \"Difference Image\"]) "
   ]
  },
  {
   "cell_type": "markdown",
   "metadata": {},
   "source": [
    "### Filter3\n",
    "\n",
    "Apply filter3 to all 4 images."
   ]
  },
  {
   "cell_type": "code",
   "execution_count": null,
   "metadata": {},
   "outputs": [],
   "source": [
    "filter3_images = [apply_filter(img, filter3) for img in padded_images]"
   ]
  },
  {
   "cell_type": "code",
   "execution_count": null,
   "metadata": {},
   "outputs": [],
   "source": [
    "img_index = 1 # use one of image index numbers 1, 2, 3 or 4.\n",
    "compare_images(images + filter3_images, img_index, [\"Original Image\", \"Filter Applied\", \"Difference Image\"])"
   ]
  },
  {
   "cell_type": "markdown",
   "metadata": {},
   "source": [
    "## Pooling\n",
    "\n",
    "Now implement max pooling and average pooling."
   ]
  },
  {
   "cell_type": "code",
   "execution_count": null,
   "metadata": {},
   "outputs": [],
   "source": [
    "def max_pooling(img, pool_dim):\n",
    "    \"\"\"\n",
    "    Arguments:\n",
    "        1) img - this is the regular (unpadded) image with shape (768, 1024)\n",
    "        2) pool_dim - dimension of the pooling. Default = 4\n",
    "    Returns:\n",
    "        'output': An image with the pooling applied to it. \n",
    "        Should have shape of original image: (768/pool_dim, 1024/pool_dim)\n",
    "    Hints:\n",
    "        - Use 2 nested for loops to iterate over poolH and poolW. At each internal\n",
    "        iteration populate the varible 'output' with the maximum value over the appropriate image region.\n",
    "        - Useful functions include range() and np.max().\n",
    "        - Remember to get a segment of a matrix you can input a range like this m[1:5].\n",
    "        - To get the (i, j)-th pooling region, you can call \n",
    "        img[i*pool_dim:(i + 1)*pool_dim, j*pool_dim:(j + 1)*pool_dim]\n",
    "        This returns elements in for indices 1, 2, 3, and 4.\n",
    "    \"\"\"\n",
    "    H,W = np.shape(img)       # (H = 768, W = 1024)\n",
    "    poolH, poolW = H//pool_dim, W//pool_dim   # (768/4 = 192, 1024/4 = 256)\n",
    "    output = np.zeros((poolH, poolW))\n",
    "    \n",
    "    # START CODE\n",
    "    # END CODE\n",
    "    \n",
    "    return output"
   ]
  },
  {
   "cell_type": "code",
   "execution_count": null,
   "metadata": {},
   "outputs": [],
   "source": [
    "def avg_pooling(img, pool_dim):\n",
    "    \"\"\"\n",
    "    Arguments:\n",
    "        1) img - this is the regular (unpadded) image with shape (768, 1024)\n",
    "        2) pool_dim - dimension of the pooling. Default = 4\n",
    "    Returns:\n",
    "        'output': An image with the pooling applied to it. \n",
    "        Should have shape of original image: (768/pool_dim, 1024/pool_dim)\n",
    "    Hints:\n",
    "        - This should be exactly the same as max_pooling, but use np.average() instead of np.max().\n",
    "    \"\"\"\n",
    "    H,W = np.shape(img)       # (H = 768, W = 1024)\n",
    "    poolH, poolW = H//4, W//4   # (768/4 = 192, 1024/4 = 256)\n",
    "    output = np.zeros((poolH, poolW))\n",
    "    \n",
    "    # START CODE\n",
    "    # END CODE\n",
    "    \n",
    "    return output"
   ]
  },
  {
   "cell_type": "code",
   "execution_count": null,
   "metadata": {},
   "outputs": [],
   "source": [
    "max_pool_images = [max_pooling(img, 4) for img in images]\n",
    "avg_pool_images = [avg_pooling(img, 4) for img in images]"
   ]
  },
  {
   "cell_type": "markdown",
   "metadata": {},
   "source": [
    "Now see the effect of max pooling:"
   ]
  },
  {
   "cell_type": "code",
   "execution_count": null,
   "metadata": {},
   "outputs": [],
   "source": [
    "img_index = 1\n",
    "compare_images(images + max_pool_images, img_index, [\"Original Image\", \"Max Pooling Applied\", \"Difference Image\"])"
   ]
  },
  {
   "cell_type": "markdown",
   "metadata": {},
   "source": [
    "Now see the effect of average pooling:"
   ]
  },
  {
   "cell_type": "code",
   "execution_count": null,
   "metadata": {},
   "outputs": [],
   "source": [
    "img_index = 2\n",
    "compare_images(images + avg_pool_images, img_index, [\"Original Image\", \"Avg Pooling Applied\", \"Difference Image\"])"
   ]
  },
  {
   "cell_type": "markdown",
   "metadata": {},
   "source": [
    "Now compare max and average pooling:"
   ]
  },
  {
   "cell_type": "code",
   "execution_count": null,
   "metadata": {},
   "outputs": [],
   "source": [
    "img_index = 2\n",
    "compare_images(max_pool_images + avg_pool_images, img_index, [\"Max Pooling Image\", \"Avg Pooling Applied\", \"Difference Image\"])"
   ]
  },
  {
   "cell_type": "code",
   "execution_count": null,
   "metadata": {},
   "outputs": [],
   "source": []
  }
 ],
 "metadata": {
  "kernelspec": {
   "display_name": "Python 3",
   "language": "python",
   "name": "python3"
  },
  "language_info": {
   "codemirror_mode": {
    "name": "ipython",
    "version": 3
   },
   "file_extension": ".py",
   "mimetype": "text/x-python",
   "name": "python",
   "nbconvert_exporter": "python",
   "pygments_lexer": "ipython3",
   "version": "3.6.5"
  }
 },
 "nbformat": 4,
 "nbformat_minor": 1
}
