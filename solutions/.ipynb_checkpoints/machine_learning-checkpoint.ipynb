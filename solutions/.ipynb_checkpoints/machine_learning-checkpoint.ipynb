{
 "cells": [
  {
   "cell_type": "markdown",
   "metadata": {},
   "source": [
    "# Machine Learning Homework\n",
    "\n",
    "For this homework we will implement **logistic regression**. You will need to use, and fix, the functions in the following files:\n",
    "\n",
    "### models.py [link](http://localhost:8888/edit/notebooks/project/models.py)\n",
    "\n",
    "Contains a **class** for **LogisticRegression**.\n",
    "\n",
    "You will **not** need to change any code in this file, but you **will** need to instantiate these classes and call their **train** and **predict** methods in [model_helpers.py](http://localhost:8888/edit/notebooks/project/model_helpers.py).\n",
    "\n",
    "### model_helpers.py [link](http://localhost:8888/edit/notebooks/project/model_helpers.py)\n",
    "\n",
    "Contains training and prediction functions used by our **Logistic Regression** model.\n",
    "\n",
    "**Your job is to complete the functions in this file!**\n",
    "\n",
    "## Instructions\n",
    "\n",
    "This notebook provides more moving parts, and more chances to be creative with how your design your expriments. As a bit of guidance, we recommend doing things in this order:\n",
    "\n",
    "(1) Complete the \"predict_probability\" function in [model_helpers.py](http://localhost:8888/edit/notebooks/project/model_helpers.py). This function is **necessary** for making predictions, and also training your model.\n",
    "\n",
    "(2) Complete the \"sgd\" function in [model_helpers.py](http://localhost:8888/edit/notebooks/project/model_helpers.py). This function is **necessary** for training your model.\n",
    "\n",
    "(3) Run the **Unit Testing** block in this notebook to see if there are any problems with \"predict_probability\" and \"sgd\".\n",
    "\n",
    "### Remember: You must restart the Kernel (top bar) in order for your changes to other files to take effect! (Kernel >> Restart & Clear Output)"
   ]
  },
  {
   "cell_type": "code",
   "execution_count": 1,
   "metadata": {},
   "outputs": [
    {
     "name": "stderr",
     "output_type": "stream",
     "text": [
      "/Users/aqua/miniconda3/envs/ai4all/lib/python3.6/site-packages/h5py/__init__.py:36: FutureWarning: Conversion of the second argument of issubdtype from `float` to `np.floating` is deprecated. In future, it will be treated as `np.float64 == np.dtype(float).type`.\n",
      "  from ._conv import register_converters as _register_converters\n"
     ]
    }
   ],
   "source": [
    "from utils.logistic_regression_utils import *\n",
    "from utils.model_testers import *\n",
    "\n",
    "from machine_learning.models import ALL_MODELS\n",
    "from machine_learning.experiment_helpers import *"
   ]
  },
  {
   "cell_type": "markdown",
   "metadata": {},
   "source": [
    "## Unit Testing\n",
    "\n",
    "In big software projects like this, engineers usually do **Unit Tests**: We take small units of code and test them on a few inputs and outputs, to make sure their working. After implementing your model helper functions. Try running the tests below to see if you have any bugs you might have overlooked:\n"
   ]
  },
  {
   "cell_type": "code",
   "execution_count": 2,
   "metadata": {},
   "outputs": [
    {
     "name": "stdout",
     "output_type": "stream",
     "text": [
      "Your \"predict_probability\" function seems to be working!\n",
      "Your \"sgd\" function seems to be working!\n",
      "Your \"batch_sgd\" function seems to be working!\n"
     ]
    }
   ],
   "source": [
    "# checks if the predict_probability function returns the right probabilities.\n",
    "test_predict_probability()\n",
    "# checks if the sgd function returns the right weights.\n",
    "test_sgd()\n",
    "# checks if the batch_sgd function returns the right weights.\n",
    "test_batch_sgd()"
   ]
  },
  {
   "cell_type": "code",
   "execution_count": null,
   "metadata": {},
   "outputs": [],
   "source": []
  }
 ],
 "metadata": {
  "kernelspec": {
   "display_name": "Python 3",
   "language": "python",
   "name": "python3"
  },
  "language_info": {
   "codemirror_mode": {
    "name": "ipython",
    "version": 3
   },
   "file_extension": ".py",
   "mimetype": "text/x-python",
   "name": "python",
   "nbconvert_exporter": "python",
   "pygments_lexer": "ipython3",
   "version": "3.6.7"
  }
 },
 "nbformat": 4,
 "nbformat_minor": 2
}
